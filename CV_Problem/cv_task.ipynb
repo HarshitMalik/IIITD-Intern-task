{
 "cells": [
  {
   "cell_type": "code",
   "execution_count": 2,
   "metadata": {
    "colab": {},
    "colab_type": "code",
    "id": "tso2BzPdxnhM"
   },
   "outputs": [],
   "source": [
    "%matplotlib inline\n",
    "import os\n",
    "import struct\n",
    "import torch\n",
    "from PIL import Image\n",
    "import matplotlib.pyplot as plt\n",
    "import numpy as np\n",
    "import torchvision\n",
    "from torchvision import transforms, models\n",
    "import torch.optim as optim\n",
    "from torch.autograd import Variable\n",
    "import torch.nn.functional as F\n",
    "import pickle\n",
    "import torch.nn as nn\n",
    "import time"
   ]
  },
  {
   "cell_type": "markdown",
   "metadata": {},
   "source": [
    "## Loading Data"
   ]
  },
  {
   "cell_type": "code",
   "execution_count": 3,
   "metadata": {
    "colab": {},
    "colab_type": "code",
    "id": "wn1qiU-nxzf4"
   },
   "outputs": [],
   "source": [
    "with open(\"test_image.pkl\", \"rb\") as f:\n",
    "    testImages = pickle.load(f)\n",
    "\n",
    "with open(\"train_image.pkl\", \"rb\") as f:\n",
    "    trainImages = pickle.load(f)\n",
    "with open(\"train_label.pkl\", \"rb\") as f:\n",
    "    trainLabels = pickle.load(f)"
   ]
  },
  {
   "cell_type": "code",
   "execution_count": 4,
   "metadata": {
    "colab": {},
    "colab_type": "code",
    "id": "4POLTaZeOLjg"
   },
   "outputs": [],
   "source": [
    "# Replacing class label 6 with 1\n",
    "for i in range(8000):\n",
    "    if(trainLabels[i]==6): \n",
    "        trainLabels[i] = 1"
   ]
  },
  {
   "cell_type": "code",
   "execution_count": 5,
   "metadata": {
    "colab": {},
    "colab_type": "code",
    "id": "I2Mzpe7C1TYp"
   },
   "outputs": [],
   "source": [
    "trainImages = np.asarray(trainImages)\n",
    "trainImages = trainImages.reshape(-1,1,28,28)\n",
    "testImages = np.asarray(testImages)\n",
    "testImages = testImages.reshape(-1,1,28,28)\n",
    "\n",
    "trainImages = (torch.from_numpy(trainImages)).float()\n",
    "trainLabels = torch.from_numpy(np.asarray(trainLabels))\n",
    "testImages = (torch.from_numpy(np.asarray(testImages))).float()"
   ]
  },
  {
   "cell_type": "code",
   "execution_count": 6,
   "metadata": {
    "colab": {},
    "colab_type": "code",
    "id": "bV4pWM7t0s5b"
   },
   "outputs": [],
   "source": [
    "# plt.imshow(trainImages[0].reshape((28,28)))\n",
    "# print(trainLabels[0])"
   ]
  },
  {
   "cell_type": "code",
   "execution_count": 7,
   "metadata": {
    "colab": {},
    "colab_type": "code",
    "id": "zbb5AaT2Jsp-"
   },
   "outputs": [],
   "source": [
    "BatchSize = 100\n",
    "\n",
    "trainset = torch.utils.data.TensorDataset(trainImages, trainLabels)\n",
    "trainLoader = torch.utils.data.DataLoader(trainset, batch_size=BatchSize, shuffle=True, num_workers=4)"
   ]
  },
  {
   "cell_type": "code",
   "execution_count": 8,
   "metadata": {
    "colab": {
     "base_uri": "https://localhost:8080/",
     "height": 54
    },
    "colab_type": "code",
    "id": "G7RmWn7xLlyR",
    "outputId": "776593e1-2e27-4e03-f89f-7168ee8ea990"
   },
   "outputs": [
    {
     "name": "stdout",
     "output_type": "stream",
     "text": [
      "No. of samples in train set: 8000\n"
     ]
    }
   ],
   "source": [
    "print('No. of samples in train set: '+str(len(trainLoader.dataset)))"
   ]
  },
  {
   "cell_type": "markdown",
   "metadata": {},
   "source": [
    "## Defining network architecture\n",
    "#### CNN LeNet "
   ]
  },
  {
   "cell_type": "code",
   "execution_count": 9,
   "metadata": {
    "colab": {},
    "colab_type": "code",
    "id": "hJbgFAB4NHVH"
   },
   "outputs": [],
   "source": [
    "class LeNet(nn.Module):\n",
    "    def __init__(self):\n",
    "        super(LeNet, self).__init__()\n",
    "        self.conv1 = nn.Conv2d(1, 6, kernel_size=5)\n",
    "        self.pool1 = nn.MaxPool2d(kernel_size=2,stride=2)\n",
    "        self.conv2 = nn.Conv2d(6, 16, kernel_size=5)\n",
    "        self.pool2 = nn.MaxPool2d(kernel_size=2,stride=2)        \n",
    "        self.fc1 = nn.Linear(256, 120)\n",
    "        self.fc2 = nn.Linear(120, 84)\n",
    "        self.fc3 = nn.Linear(84, 4)\n",
    "\n",
    "    def forward(self, x):\n",
    "        x = F.relu(self.conv1(x))\n",
    "        x = self.pool1(x)\n",
    "        x = F.relu(self.conv2(x))\n",
    "        x = self.pool2(x)\n",
    "        x = x.view(x.size(0), -1)\n",
    "        x = F.relu(self.fc1(x)) \n",
    "        x = F.relu(self.fc2(x))\n",
    "        x = self.fc3(x)\n",
    "        return F.log_softmax(x)\n"
   ]
  },
  {
   "cell_type": "code",
   "execution_count": 10,
   "metadata": {
    "colab": {
     "base_uri": "https://localhost:8080/",
     "height": 182
    },
    "colab_type": "code",
    "id": "n5PE7IGkTyOm",
    "outputId": "c75e6516-a9c1-493a-ab1b-0862caeb4280"
   },
   "outputs": [
    {
     "name": "stdout",
     "output_type": "stream",
     "text": [
      "LeNet(\n",
      "  (conv1): Conv2d(1, 6, kernel_size=(5, 5), stride=(1, 1))\n",
      "  (pool1): MaxPool2d(kernel_size=2, stride=2, padding=0, dilation=1, ceil_mode=False)\n",
      "  (conv2): Conv2d(6, 16, kernel_size=(5, 5), stride=(1, 1))\n",
      "  (pool2): MaxPool2d(kernel_size=2, stride=2, padding=0, dilation=1, ceil_mode=False)\n",
      "  (fc1): Linear(in_features=256, out_features=120, bias=True)\n",
      "  (fc2): Linear(in_features=120, out_features=84, bias=True)\n",
      "  (fc3): Linear(in_features=84, out_features=4, bias=True)\n",
      ")\n"
     ]
    }
   ],
   "source": [
    "net = LeNet()\n",
    "print(net)"
   ]
  },
  {
   "cell_type": "code",
   "execution_count": 11,
   "metadata": {
    "colab": {
     "base_uri": "https://localhost:8080/",
     "height": 35
    },
    "colab_type": "code",
    "id": "ApmS5dA8T1R7",
    "outputId": "115cf69d-6d71-432a-ba2d-f5848d2ece12"
   },
   "outputs": [
    {
     "name": "stdout",
     "output_type": "stream",
     "text": [
      "GPU unavailable !\n"
     ]
    }
   ],
   "source": [
    "# Check availability of GPU\n",
    "use_gpu = torch.cuda.is_available()\n",
    "if use_gpu:\n",
    "    print('GPU is available !')   \n",
    "    net = net.cuda()\n",
    "else:\n",
    "    print('GPU unavailable !')"
   ]
  },
  {
   "cell_type": "code",
   "execution_count": 12,
   "metadata": {
    "colab": {},
    "colab_type": "code",
    "id": "dtHSopXiWCJ5"
   },
   "outputs": [],
   "source": [
    "criterion = nn.NLLLoss() # Negative Log-likelihood\n",
    "optimizer = optim.Adam(net.parameters(), lr=1e-5) # Adam"
   ]
  },
  {
   "cell_type": "markdown",
   "metadata": {},
   "source": [
    "## training model"
   ]
  },
  {
   "cell_type": "code",
   "execution_count": 13,
   "metadata": {
    "colab": {
     "base_uri": "https://localhost:8080/",
     "height": 1521
    },
    "colab_type": "code",
    "id": "JLtzO3dgWICX",
    "outputId": "2dfc6159-7ef4-44d0-80e8-51d01f04c26c"
   },
   "outputs": [
    {
     "name": "stderr",
     "output_type": "stream",
     "text": [
      "/home/harshit/anaconda3/lib/python3.7/site-packages/ipykernel_launcher.py:21: UserWarning: Implicit dimension choice for log_softmax has been deprecated. Change the call to include dim=X as an argument.\n"
     ]
    },
    {
     "name": "stdout",
     "output_type": "stream",
     "text": [
      "Iteration: 1 /100  ;  Training Loss: 0.012481 ; Time consumed: 0m 1s \n",
      "Iteration: 2 /100  ;  Training Loss: 0.010075 ; Time consumed: 0m 1s \n",
      "Iteration: 3 /100  ;  Training Loss: 0.009009 ; Time consumed: 0m 1s \n",
      "Iteration: 4 /100  ;  Training Loss: 0.008415 ; Time consumed: 0m 1s \n",
      "Iteration: 5 /100  ;  Training Loss: 0.008045 ; Time consumed: 0m 1s \n",
      "Iteration: 6 /100  ;  Training Loss: 0.007750 ; Time consumed: 0m 1s \n",
      "Iteration: 7 /100  ;  Training Loss: 0.007523 ; Time consumed: 0m 1s \n",
      "Iteration: 8 /100  ;  Training Loss: 0.007336 ; Time consumed: 0m 1s \n",
      "Iteration: 9 /100  ;  Training Loss: 0.007176 ; Time consumed: 0m 1s \n",
      "Iteration: 10 /100  ;  Training Loss: 0.007023 ; Time consumed: 0m 1s \n",
      "Iteration: 11 /100  ;  Training Loss: 0.006900 ; Time consumed: 0m 1s \n",
      "Iteration: 12 /100  ;  Training Loss: 0.006778 ; Time consumed: 0m 1s \n",
      "Iteration: 13 /100  ;  Training Loss: 0.006676 ; Time consumed: 0m 1s \n",
      "Iteration: 14 /100  ;  Training Loss: 0.006584 ; Time consumed: 0m 1s \n",
      "Iteration: 15 /100  ;  Training Loss: 0.006487 ; Time consumed: 0m 1s \n",
      "Iteration: 16 /100  ;  Training Loss: 0.006407 ; Time consumed: 0m 1s \n",
      "Iteration: 17 /100  ;  Training Loss: 0.006320 ; Time consumed: 0m 1s \n",
      "Iteration: 18 /100  ;  Training Loss: 0.006262 ; Time consumed: 0m 1s \n",
      "Iteration: 19 /100  ;  Training Loss: 0.006189 ; Time consumed: 0m 1s \n",
      "Iteration: 20 /100  ;  Training Loss: 0.006105 ; Time consumed: 0m 1s \n",
      "Iteration: 21 /100  ;  Training Loss: 0.006033 ; Time consumed: 0m 1s \n",
      "Iteration: 22 /100  ;  Training Loss: 0.005974 ; Time consumed: 0m 1s \n",
      "Iteration: 23 /100  ;  Training Loss: 0.005906 ; Time consumed: 0m 1s \n",
      "Iteration: 24 /100  ;  Training Loss: 0.005841 ; Time consumed: 0m 1s \n",
      "Iteration: 25 /100  ;  Training Loss: 0.005780 ; Time consumed: 0m 1s \n",
      "Iteration: 26 /100  ;  Training Loss: 0.005709 ; Time consumed: 0m 1s \n",
      "Iteration: 27 /100  ;  Training Loss: 0.005648 ; Time consumed: 0m 1s \n",
      "Iteration: 28 /100  ;  Training Loss: 0.005604 ; Time consumed: 0m 1s \n",
      "Iteration: 29 /100  ;  Training Loss: 0.005550 ; Time consumed: 0m 1s \n",
      "Iteration: 30 /100  ;  Training Loss: 0.005504 ; Time consumed: 0m 1s \n",
      "Iteration: 31 /100  ;  Training Loss: 0.005455 ; Time consumed: 0m 1s \n",
      "Iteration: 32 /100  ;  Training Loss: 0.005401 ; Time consumed: 0m 1s \n",
      "Iteration: 33 /100  ;  Training Loss: 0.005359 ; Time consumed: 0m 1s \n",
      "Iteration: 34 /100  ;  Training Loss: 0.005330 ; Time consumed: 0m 1s \n",
      "Iteration: 35 /100  ;  Training Loss: 0.005286 ; Time consumed: 0m 1s \n",
      "Iteration: 36 /100  ;  Training Loss: 0.005243 ; Time consumed: 0m 1s \n",
      "Iteration: 37 /100  ;  Training Loss: 0.005198 ; Time consumed: 0m 1s \n",
      "Iteration: 38 /100  ;  Training Loss: 0.005181 ; Time consumed: 0m 1s \n",
      "Iteration: 39 /100  ;  Training Loss: 0.005137 ; Time consumed: 0m 1s \n",
      "Iteration: 40 /100  ;  Training Loss: 0.005108 ; Time consumed: 0m 1s \n",
      "Iteration: 41 /100  ;  Training Loss: 0.005084 ; Time consumed: 0m 1s \n",
      "Iteration: 42 /100  ;  Training Loss: 0.005050 ; Time consumed: 0m 1s \n",
      "Iteration: 43 /100  ;  Training Loss: 0.005021 ; Time consumed: 0m 1s \n",
      "Iteration: 44 /100  ;  Training Loss: 0.004990 ; Time consumed: 0m 1s \n",
      "Iteration: 45 /100  ;  Training Loss: 0.004969 ; Time consumed: 0m 1s \n",
      "Iteration: 46 /100  ;  Training Loss: 0.004934 ; Time consumed: 0m 1s \n",
      "Iteration: 47 /100  ;  Training Loss: 0.004911 ; Time consumed: 0m 1s \n",
      "Iteration: 48 /100  ;  Training Loss: 0.004887 ; Time consumed: 0m 1s \n",
      "Iteration: 49 /100  ;  Training Loss: 0.004862 ; Time consumed: 0m 1s \n",
      "Iteration: 50 /100  ;  Training Loss: 0.004839 ; Time consumed: 0m 1s \n",
      "Iteration: 51 /100  ;  Training Loss: 0.004822 ; Time consumed: 0m 1s \n",
      "Iteration: 52 /100  ;  Training Loss: 0.004805 ; Time consumed: 0m 1s \n",
      "Iteration: 53 /100  ;  Training Loss: 0.004772 ; Time consumed: 0m 1s \n",
      "Iteration: 54 /100  ;  Training Loss: 0.004743 ; Time consumed: 0m 1s \n",
      "Iteration: 55 /100  ;  Training Loss: 0.004729 ; Time consumed: 0m 1s \n",
      "Iteration: 56 /100  ;  Training Loss: 0.004700 ; Time consumed: 0m 1s \n",
      "Iteration: 57 /100  ;  Training Loss: 0.004697 ; Time consumed: 0m 1s \n",
      "Iteration: 58 /100  ;  Training Loss: 0.004667 ; Time consumed: 0m 1s \n",
      "Iteration: 59 /100  ;  Training Loss: 0.004641 ; Time consumed: 0m 1s \n",
      "Iteration: 60 /100  ;  Training Loss: 0.004632 ; Time consumed: 0m 1s \n",
      "Iteration: 61 /100  ;  Training Loss: 0.004601 ; Time consumed: 0m 1s \n",
      "Iteration: 62 /100  ;  Training Loss: 0.004604 ; Time consumed: 0m 1s \n",
      "Iteration: 63 /100  ;  Training Loss: 0.004565 ; Time consumed: 0m 1s \n",
      "Iteration: 64 /100  ;  Training Loss: 0.004550 ; Time consumed: 0m 1s \n",
      "Iteration: 65 /100  ;  Training Loss: 0.004529 ; Time consumed: 0m 1s \n",
      "Iteration: 66 /100  ;  Training Loss: 0.004505 ; Time consumed: 0m 1s \n",
      "Iteration: 67 /100  ;  Training Loss: 0.004488 ; Time consumed: 0m 1s \n",
      "Iteration: 68 /100  ;  Training Loss: 0.004475 ; Time consumed: 0m 1s \n",
      "Iteration: 69 /100  ;  Training Loss: 0.004444 ; Time consumed: 0m 1s \n",
      "Iteration: 70 /100  ;  Training Loss: 0.004440 ; Time consumed: 0m 1s \n",
      "Iteration: 71 /100  ;  Training Loss: 0.004425 ; Time consumed: 0m 1s \n",
      "Iteration: 72 /100  ;  Training Loss: 0.004400 ; Time consumed: 0m 1s \n",
      "Iteration: 73 /100  ;  Training Loss: 0.004408 ; Time consumed: 0m 1s \n",
      "Iteration: 74 /100  ;  Training Loss: 0.004369 ; Time consumed: 0m 1s \n",
      "Iteration: 75 /100  ;  Training Loss: 0.004358 ; Time consumed: 0m 1s \n",
      "Iteration: 76 /100  ;  Training Loss: 0.004339 ; Time consumed: 0m 1s \n",
      "Iteration: 77 /100  ;  Training Loss: 0.004333 ; Time consumed: 0m 1s \n",
      "Iteration: 78 /100  ;  Training Loss: 0.004314 ; Time consumed: 0m 1s \n",
      "Iteration: 79 /100  ;  Training Loss: 0.004290 ; Time consumed: 0m 1s \n",
      "Iteration: 80 /100  ;  Training Loss: 0.004270 ; Time consumed: 0m 1s \n",
      "Iteration: 81 /100  ;  Training Loss: 0.004252 ; Time consumed: 0m 1s \n",
      "Iteration: 82 /100  ;  Training Loss: 0.004248 ; Time consumed: 0m 1s \n",
      "Iteration: 83 /100  ;  Training Loss: 0.004237 ; Time consumed: 0m 1s \n",
      "Iteration: 84 /100  ;  Training Loss: 0.004214 ; Time consumed: 0m 1s \n",
      "Iteration: 85 /100  ;  Training Loss: 0.004203 ; Time consumed: 0m 1s \n",
      "Iteration: 86 /100  ;  Training Loss: 0.004187 ; Time consumed: 0m 1s \n",
      "Iteration: 87 /100  ;  Training Loss: 0.004178 ; Time consumed: 0m 1s \n",
      "Iteration: 88 /100  ;  Training Loss: 0.004153 ; Time consumed: 0m 1s \n",
      "Iteration: 89 /100  ;  Training Loss: 0.004143 ; Time consumed: 0m 1s \n",
      "Iteration: 90 /100  ;  Training Loss: 0.004129 ; Time consumed: 0m 1s \n",
      "Iteration: 91 /100  ;  Training Loss: 0.004121 ; Time consumed: 0m 1s \n",
      "Iteration: 92 /100  ;  Training Loss: 0.004098 ; Time consumed: 0m 1s \n",
      "Iteration: 93 /100  ;  Training Loss: 0.004121 ; Time consumed: 0m 1s \n",
      "Iteration: 94 /100  ;  Training Loss: 0.004072 ; Time consumed: 0m 1s \n",
      "Iteration: 95 /100  ;  Training Loss: 0.004084 ; Time consumed: 0m 1s \n",
      "Iteration: 96 /100  ;  Training Loss: 0.004053 ; Time consumed: 0m 1s \n",
      "Iteration: 97 /100  ;  Training Loss: 0.004044 ; Time consumed: 0m 1s \n",
      "Iteration: 98 /100  ;  Training Loss: 0.004029 ; Time consumed: 0m 1s \n",
      "Iteration: 99 /100  ;  Training Loss: 0.004033 ; Time consumed: 0m 1s \n",
      "Iteration: 100 /100  ;  Training Loss: 0.003994 ; Time consumed: 0m 1s \n",
      "Training completed in 1m 54s\n"
     ]
    },
    {
     "data": {
      "image/png": "[encoded data removed]",
      "text/plain": [
       "<Figure size 432x288 with 1 Axes>"
      ]
     },
     "metadata": {
      "needs_background": "light"
     },
     "output_type": "display_data"
    }
   ],
   "source": [
    "iterations = 100\n",
    "trainLoss = []\n",
    "start = time.time()\n",
    "for epoch in range(iterations):\n",
    "    epochStart = time.time()\n",
    "    runningLoss = 0    \n",
    "    net.train(True) # For training\n",
    "    for data in trainLoader:\n",
    "        inputs,labels = data\n",
    "        # Wrap them in Variable\n",
    "        if use_gpu:\n",
    "            inputs, labels = Variable(inputs.cuda()), \\\n",
    "                Variable(labels.cuda())\n",
    "        else:\n",
    "            inputs, labels = Variable(inputs), Variable(labels)  \n",
    "       \n",
    "        # Initialize gradients to zero\n",
    "        optimizer.zero_grad()\n",
    "        # Feed-forward input data through the network        \n",
    "        outputs = net(inputs)        \n",
    "        # Compute loss/error\n",
    "        loss = criterion(outputs, labels)\n",
    "        # Backpropagate loss and compute gradients\n",
    "        loss.backward()\n",
    "        # Update the network parameters\n",
    "        optimizer.step()\n",
    "        # Accumulate loss per batch\n",
    "        runningLoss += loss.data \n",
    "    avgTrainLoss = runningLoss/8000.0\n",
    "    trainLoss.append(avgTrainLoss)\n",
    "        \n",
    "    # Plotting training loss vs Epochs\n",
    "    fig1 = plt.figure(1)        \n",
    "    plt.plot(range(epoch+1),trainLoss,'r-',label='train')        \n",
    "    if epoch==0:\n",
    "        plt.legend(loc='upper left')\n",
    "        plt.xlabel('Epochs')\n",
    "        plt.ylabel('Training loss')       \n",
    "    epochEnd = time.time()-epochStart\n",
    "    print('Iteration: {:.0f} /{:.0f}  ;  Training Loss: {:.6f} ; Time consumed: {:.0f}m {:.0f}s '\\\n",
    "          .format(epoch + 1,iterations,avgTrainLoss,epochEnd//60,epochEnd%60))\n",
    "end = time.time()-start\n",
    "print('Training completed in {:.0f}m {:.0f}s'.format(end//60,end%60))"
   ]
  },
  {
   "cell_type": "markdown",
   "metadata": {},
   "source": [
    "## Predicting test labels and saving into file"
   ]
  },
  {
   "cell_type": "code",
   "execution_count": 14,
   "metadata": {
    "colab": {
     "base_uri": "https://localhost:8080/",
     "height": 55
    },
    "colab_type": "code",
    "id": "rDr6jrcsNZms",
    "outputId": "420837bf-1134-4a43-d9d7-ab10bf51077e"
   },
   "outputs": [
    {
     "name": "stderr",
     "output_type": "stream",
     "text": [
      "/home/harshit/anaconda3/lib/python3.7/site-packages/ipykernel_launcher.py:21: UserWarning: Implicit dimension choice for log_softmax has been deprecated. Change the call to include dim=X as an argument.\n"
     ]
    }
   ],
   "source": [
    "if use_gpu:\n",
    "    inputs = Variable(testImages.cuda())  \n",
    "else:\n",
    "    inputs = Variable(testImages)\n",
    "\n",
    "outputs = net(inputs)\n",
    "_, predicted = torch.max(outputs.data, 1)\n",
    "finalPred = predicted.cpu().numpy()\n",
    "\n",
    "# Replacing class label 1 with 6\n",
    "for i in range(2000):\n",
    "    if finalPred[i] == 1:\n",
    "        finalPred[i] = 6"
   ]
  },
  {
   "cell_type": "code",
   "execution_count": 15,
   "metadata": {
    "colab": {},
    "colab_type": "code",
    "id": "zmem06IS2eHe"
   },
   "outputs": [],
   "source": [
    "# Saving predictions into a file\n",
    "x = np.arange(0, 2000, 1)\n",
    "x.astype(int)\n",
    "final = np.asarray((x,finalPred),dtype = int)\n",
    "np.savetxt(\"Testlabel.csv\",final.T,fmt='%d' ,delimiter=',', header='image,pred',comments='')"
   ]
  },
  {
   "cell_type": "code",
   "execution_count": null,
   "metadata": {},
   "outputs": [],
   "source": []
  }
 ],
 "metadata": {
  "accelerator": "GPU",
  "colab": {
   "collapsed_sections": [],
   "name": "TaskCV.ipynb",
   "provenance": [],
   "version": "0.3.2"
  },
  "kernelspec": {
   "display_name": "Python 3",
   "language": "python",
   "name": "python3"
  },
  "language_info": {
   "codemirror_mode": {
    "name": "ipython",
    "version": 3
   },
   "file_extension": ".py",
   "mimetype": "text/x-python",
   "name": "python",
   "nbconvert_exporter": "python",
   "pygments_lexer": "ipython3",
   "version": "3.7.1"
  }
 },
 "nbformat": 4,
 "nbformat_minor": 1
}
