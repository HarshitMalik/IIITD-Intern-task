{
 "cells": [
  {
   "cell_type": "code",
   "execution_count": 25,
   "metadata": {},
   "outputs": [],
   "source": [
    "import tweepy\n",
    "import itertools\n",
    "from tweepy import OAuthHandler\n",
    "import json, csv\n",
    "import jsonlines\n",
    "import datetime as dt\n",
    "import time\n",
    "import os\n",
    "import sys\n",
    "import io"
   ]
  },
  {
   "cell_type": "code",
   "execution_count": 26,
   "metadata": {},
   "outputs": [],
   "source": [
    "def twitter_api():\n",
    "    consumer_key = '54oJ9jI6ANEVauokqxDZFjHyh'\n",
    "    consumer_secret = 'APSbbQmiqT521UjSvFSIgZzWO7zosbIxsKDR6yDxa8uh5L7dds'\n",
    "    access_token = '1114440557617602560-0DtZbzSmhPGtU3vNk7ASGjh4Jw9TLu'\n",
    "    access_secret = 'fFqcqgzkttvFQ0kwYKF5V2cLZSDtHUtofmTAWKe4dPs10'\n",
    "\n",
    "    auth = OAuthHandler(consumer_key, consumer_secret)\n",
    "    auth.set_access_token(access_token, access_secret)\n",
    " \n",
    "    api = tweepy.API(auth)\n",
    "    return api"
   ]
  },
  {
   "cell_type": "code",
   "execution_count": 27,
   "metadata": {},
   "outputs": [],
   "source": [
    "extractor = twitter_api()"
   ]
  },
  {
   "cell_type": "code",
   "execution_count": 28,
   "metadata": {},
   "outputs": [],
   "source": [
    "def extract_tweet():    \n",
    "    tweets = extractor.user_timeline(screen_name=\"midasIIITD\", count=200)\n",
    "    return tweets"
   ]
  },
  {
   "cell_type": "code",
   "execution_count": 29,
   "metadata": {},
   "outputs": [],
   "source": [
    "tweets = extract_tweet()"
   ]
  },
  {
   "cell_type": "code",
   "execution_count": 30,
   "metadata": {},
   "outputs": [],
   "source": [
    "with jsonlines.open('tweetSaved.jsonl', mode='w') as writer:\n",
    "    for lineno in tweets:\n",
    "        data = lineno._json\n",
    "        parsed = lineno\n",
    "        writer.write(data)"
   ]
  },
  {
   "cell_type": "code",
   "execution_count": null,
   "metadata": {},
   "outputs": [],
   "source": []
  }
 ],
 "metadata": {
  "kernelspec": {
   "display_name": "Python 3",
   "language": "python",
   "name": "python3"
  },
  "language_info": {
   "codemirror_mode": {
    "name": "ipython",
    "version": 3
   },
   "file_extension": ".py",
   "mimetype": "text/x-python",
   "name": "python",
   "nbconvert_exporter": "python",
   "pygments_lexer": "ipython3",
   "version": "3.5.2"
  }
 },
 "nbformat": 4,
 "nbformat_minor": 2
}
